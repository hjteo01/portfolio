{
 "cells": [
  {
   "cell_type": "markdown",
   "id": "93d1460a-294d-41f2-97cb-f3f75c81c992",
   "metadata": {},
   "source": [
    "### Import libraries"
   ]
  },
  {
   "cell_type": "code",
   "execution_count": 2,
   "id": "fecd5f53-98ba-4326-9781-81f3ec2cdba5",
   "metadata": {},
   "outputs": [],
   "source": [
    "import pandas as pd\n",
    "import numpy as np\n",
    "import matplotlib.pyplot as plt\n",
    "import seaborn as sns\n",
    "import plotly.express as px\n",
    "import statsmodels.api as sm"
   ]
  },
  {
   "cell_type": "markdown",
   "id": "f03c43b6-cfa9-41c9-9dbe-728834b4e41c",
   "metadata": {},
   "source": [
    "### Data Cleaning"
   ]
  },
  {
   "cell_type": "code",
   "execution_count": 3,
   "id": "64ae89a6-78f0-4ecd-9345-c99e669857c7",
   "metadata": {},
   "outputs": [],
   "source": [
    "df = pd.read_csv(\"parcelCenter.csv\")"
   ]
  },
  {
   "cell_type": "code",
   "execution_count": 4,
   "id": "1b19a543-e9db-4c17-8e60-d30e67469844",
   "metadata": {},
   "outputs": [
    {
     "data": {
      "text/plain": [
       "parcel_id              0\n",
       "parcel_type            0\n",
       "enter_time             0\n",
       "leave_time             0\n",
       "unloading_container    0\n",
       "unloading_port         0\n",
       "loading_container      0\n",
       "loading_port           0\n",
       "dtype: int64"
      ]
     },
     "execution_count": 4,
     "metadata": {},
     "output_type": "execute_result"
    }
   ],
   "source": [
    "df.isna().sum()"
   ]
  },
  {
   "cell_type": "code",
   "execution_count": 5,
   "id": "cc3380a9-26db-465b-b8f9-d5bf2d0d7228",
   "metadata": {},
   "outputs": [],
   "source": [
    "# Convert enter_time and leave_time to datetime format\n",
    "df[\"enter_time\"] = pd.to_datetime(df[\"enter_time\"], format=\"%d/%m/%y %H:%M\")\n",
    "df[\"leave_time\"] = pd.to_datetime(df[\"leave_time\"], format=\"%d/%m/%y %H:%M\")\n",
    "\n",
    "# Compute processing time in minutes\n",
    "df[\"processing_time\"] = (df[\"leave_time\"] - df[\"enter_time\"]).dt.total_seconds() / 60\n",
    "\n",
    "# Create a new column for hour of entry (for congestion analysis)\n",
    "df[\"hour_of_entry\"] = df[\"enter_time\"].dt.hour"
   ]
  },
  {
   "cell_type": "code",
   "execution_count": 6,
   "id": "fe9342f6-7821-4563-97b3-759f010a6b19",
   "metadata": {},
   "outputs": [],
   "source": [
    "# Sort by enter_time\n",
    "df = df.sort_values(by='enter_time')\n",
    "\n",
    "# Create a new column for facility congestion at entry time\n",
    "congestion_counts = []\n",
    "\n",
    "for i, row in df.iterrows():\n",
    "    # Count parcels present at the time this parcel enters\n",
    "    count = df[(df['enter_time'] <= row['enter_time']) & (df['leave_time'] > row['enter_time'])].shape[0]\n",
    "    congestion_counts.append(count)\n",
    "\n",
    "# Add to DataFrame\n",
    "df['congestion'] = congestion_counts"
   ]
  },
  {
   "cell_type": "code",
   "execution_count": 7,
   "id": "9224b7bf-8df4-49e4-a66a-7375e960590d",
   "metadata": {},
   "outputs": [],
   "source": [
    "# Renamed categories for parcel_type\n",
    "df['parcel_type'] = df['parcel_type'].replace('I', 'International')\n",
    "df['parcel_type'] = df['parcel_type'].replace('D', 'Domestic')"
   ]
  },
  {
   "cell_type": "code",
   "execution_count": 8,
   "id": "5f59de8e",
   "metadata": {},
   "outputs": [
    {
     "data": {
      "text/html": [
       "<div>\n",
       "<style scoped>\n",
       "    .dataframe tbody tr th:only-of-type {\n",
       "        vertical-align: middle;\n",
       "    }\n",
       "\n",
       "    .dataframe tbody tr th {\n",
       "        vertical-align: top;\n",
       "    }\n",
       "\n",
       "    .dataframe thead th {\n",
       "        text-align: right;\n",
       "    }\n",
       "</style>\n",
       "<table border=\"1\" class=\"dataframe\">\n",
       "  <thead>\n",
       "    <tr style=\"text-align: right;\">\n",
       "      <th></th>\n",
       "      <th>parcel_id</th>\n",
       "      <th>parcel_type</th>\n",
       "      <th>enter_time</th>\n",
       "      <th>leave_time</th>\n",
       "      <th>unloading_container</th>\n",
       "      <th>unloading_port</th>\n",
       "      <th>loading_container</th>\n",
       "      <th>loading_port</th>\n",
       "      <th>processing_time</th>\n",
       "      <th>hour_of_entry</th>\n",
       "      <th>congestion</th>\n",
       "    </tr>\n",
       "  </thead>\n",
       "  <tbody>\n",
       "    <tr>\n",
       "      <th>641</th>\n",
       "      <td>s11780I298012</td>\n",
       "      <td>International</td>\n",
       "      <td>2021-05-17 08:02:00</td>\n",
       "      <td>2021-05-17 08:33:00</td>\n",
       "      <td>CI11780</td>\n",
       "      <td>SE01</td>\n",
       "      <td>CO11801</td>\n",
       "      <td>TN01</td>\n",
       "      <td>31.0</td>\n",
       "      <td>8</td>\n",
       "      <td>8</td>\n",
       "    </tr>\n",
       "    <tr>\n",
       "      <th>282</th>\n",
       "      <td>s11780I789965</td>\n",
       "      <td>International</td>\n",
       "      <td>2021-05-17 08:02:00</td>\n",
       "      <td>2021-05-17 08:19:00</td>\n",
       "      <td>CI11780</td>\n",
       "      <td>SE01</td>\n",
       "      <td>CO11801</td>\n",
       "      <td>TN01</td>\n",
       "      <td>17.0</td>\n",
       "      <td>8</td>\n",
       "      <td>8</td>\n",
       "    </tr>\n",
       "    <tr>\n",
       "      <th>704</th>\n",
       "      <td>s11780I658190</td>\n",
       "      <td>International</td>\n",
       "      <td>2021-05-17 08:02:00</td>\n",
       "      <td>2021-05-17 08:23:00</td>\n",
       "      <td>CI11780</td>\n",
       "      <td>SE01</td>\n",
       "      <td>CO11801</td>\n",
       "      <td>TN01</td>\n",
       "      <td>21.0</td>\n",
       "      <td>8</td>\n",
       "      <td>8</td>\n",
       "    </tr>\n",
       "    <tr>\n",
       "      <th>493</th>\n",
       "      <td>s11780I061877</td>\n",
       "      <td>International</td>\n",
       "      <td>2021-05-17 08:02:00</td>\n",
       "      <td>2021-05-17 08:23:00</td>\n",
       "      <td>CI11780</td>\n",
       "      <td>SE01</td>\n",
       "      <td>CO11801</td>\n",
       "      <td>TN01</td>\n",
       "      <td>21.0</td>\n",
       "      <td>8</td>\n",
       "      <td>8</td>\n",
       "    </tr>\n",
       "    <tr>\n",
       "      <th>303</th>\n",
       "      <td>s11780I354406</td>\n",
       "      <td>International</td>\n",
       "      <td>2021-05-17 08:02:00</td>\n",
       "      <td>2021-05-17 08:35:00</td>\n",
       "      <td>CI11780</td>\n",
       "      <td>SE01</td>\n",
       "      <td>CO11801</td>\n",
       "      <td>TN01</td>\n",
       "      <td>33.0</td>\n",
       "      <td>8</td>\n",
       "      <td>8</td>\n",
       "    </tr>\n",
       "    <tr>\n",
       "      <th>...</th>\n",
       "      <td>...</td>\n",
       "      <td>...</td>\n",
       "      <td>...</td>\n",
       "      <td>...</td>\n",
       "      <td>...</td>\n",
       "      <td>...</td>\n",
       "      <td>...</td>\n",
       "      <td>...</td>\n",
       "      <td>...</td>\n",
       "      <td>...</td>\n",
       "      <td>...</td>\n",
       "    </tr>\n",
       "    <tr>\n",
       "      <th>117</th>\n",
       "      <td>s11788D719093</td>\n",
       "      <td>Domestic</td>\n",
       "      <td>2021-05-17 10:37:00</td>\n",
       "      <td>2021-05-17 10:57:00</td>\n",
       "      <td>CI11788</td>\n",
       "      <td>SN01</td>\n",
       "      <td>CO11799</td>\n",
       "      <td>TS02</td>\n",
       "      <td>20.0</td>\n",
       "      <td>10</td>\n",
       "      <td>112</td>\n",
       "    </tr>\n",
       "    <tr>\n",
       "      <th>269</th>\n",
       "      <td>s11788D757671</td>\n",
       "      <td>Domestic</td>\n",
       "      <td>2021-05-17 10:37:00</td>\n",
       "      <td>2021-05-17 10:51:00</td>\n",
       "      <td>CI11788</td>\n",
       "      <td>SN01</td>\n",
       "      <td>CO11799</td>\n",
       "      <td>TS02</td>\n",
       "      <td>14.0</td>\n",
       "      <td>10</td>\n",
       "      <td>112</td>\n",
       "    </tr>\n",
       "    <tr>\n",
       "      <th>664</th>\n",
       "      <td>s11788D120119</td>\n",
       "      <td>Domestic</td>\n",
       "      <td>2021-05-17 10:37:00</td>\n",
       "      <td>2021-05-17 10:58:00</td>\n",
       "      <td>CI11788</td>\n",
       "      <td>SN01</td>\n",
       "      <td>CO11799</td>\n",
       "      <td>TS02</td>\n",
       "      <td>21.0</td>\n",
       "      <td>10</td>\n",
       "      <td>112</td>\n",
       "    </tr>\n",
       "    <tr>\n",
       "      <th>497</th>\n",
       "      <td>s11788D127347</td>\n",
       "      <td>Domestic</td>\n",
       "      <td>2021-05-17 10:38:00</td>\n",
       "      <td>2021-05-17 10:53:00</td>\n",
       "      <td>CI11788</td>\n",
       "      <td>SN01</td>\n",
       "      <td>CO11799</td>\n",
       "      <td>TS02</td>\n",
       "      <td>15.0</td>\n",
       "      <td>10</td>\n",
       "      <td>107</td>\n",
       "    </tr>\n",
       "    <tr>\n",
       "      <th>613</th>\n",
       "      <td>s11788D612130</td>\n",
       "      <td>Domestic</td>\n",
       "      <td>2021-05-17 10:38:00</td>\n",
       "      <td>2021-05-17 10:55:00</td>\n",
       "      <td>CI11788</td>\n",
       "      <td>SN01</td>\n",
       "      <td>CO11799</td>\n",
       "      <td>TS02</td>\n",
       "      <td>17.0</td>\n",
       "      <td>10</td>\n",
       "      <td>107</td>\n",
       "    </tr>\n",
       "  </tbody>\n",
       "</table>\n",
       "<p>718 rows × 11 columns</p>\n",
       "</div>"
      ],
      "text/plain": [
       "         parcel_id    parcel_type          enter_time          leave_time  \\\n",
       "641  s11780I298012  International 2021-05-17 08:02:00 2021-05-17 08:33:00   \n",
       "282  s11780I789965  International 2021-05-17 08:02:00 2021-05-17 08:19:00   \n",
       "704  s11780I658190  International 2021-05-17 08:02:00 2021-05-17 08:23:00   \n",
       "493  s11780I061877  International 2021-05-17 08:02:00 2021-05-17 08:23:00   \n",
       "303  s11780I354406  International 2021-05-17 08:02:00 2021-05-17 08:35:00   \n",
       "..             ...            ...                 ...                 ...   \n",
       "117  s11788D719093       Domestic 2021-05-17 10:37:00 2021-05-17 10:57:00   \n",
       "269  s11788D757671       Domestic 2021-05-17 10:37:00 2021-05-17 10:51:00   \n",
       "664  s11788D120119       Domestic 2021-05-17 10:37:00 2021-05-17 10:58:00   \n",
       "497  s11788D127347       Domestic 2021-05-17 10:38:00 2021-05-17 10:53:00   \n",
       "613  s11788D612130       Domestic 2021-05-17 10:38:00 2021-05-17 10:55:00   \n",
       "\n",
       "    unloading_container unloading_port loading_container loading_port  \\\n",
       "641             CI11780           SE01           CO11801         TN01   \n",
       "282             CI11780           SE01           CO11801         TN01   \n",
       "704             CI11780           SE01           CO11801         TN01   \n",
       "493             CI11780           SE01           CO11801         TN01   \n",
       "303             CI11780           SE01           CO11801         TN01   \n",
       "..                  ...            ...               ...          ...   \n",
       "117             CI11788           SN01           CO11799         TS02   \n",
       "269             CI11788           SN01           CO11799         TS02   \n",
       "664             CI11788           SN01           CO11799         TS02   \n",
       "497             CI11788           SN01           CO11799         TS02   \n",
       "613             CI11788           SN01           CO11799         TS02   \n",
       "\n",
       "     processing_time  hour_of_entry  congestion  \n",
       "641             31.0              8           8  \n",
       "282             17.0              8           8  \n",
       "704             21.0              8           8  \n",
       "493             21.0              8           8  \n",
       "303             33.0              8           8  \n",
       "..               ...            ...         ...  \n",
       "117             20.0             10         112  \n",
       "269             14.0             10         112  \n",
       "664             21.0             10         112  \n",
       "497             15.0             10         107  \n",
       "613             17.0             10         107  \n",
       "\n",
       "[718 rows x 11 columns]"
      ]
     },
     "execution_count": 8,
     "metadata": {},
     "output_type": "execute_result"
    }
   ],
   "source": [
    "df"
   ]
  },
  {
   "cell_type": "markdown",
   "id": "d44ace73-0a90-4ae5-bf48-ff943888e729",
   "metadata": {},
   "source": [
    "### Data Visualization"
   ]
  },
  {
   "cell_type": "code",
   "execution_count": 9,
   "id": "687eaf9c",
   "metadata": {},
   "outputs": [
    {
     "data": {
      "image/png": "[encoded data removed]",
      "text/plain": [
       "<Figure size 1000x600 with 1 Axes>"
      ]
     },
     "metadata": {},
     "output_type": "display_data"
    }
   ],
   "source": [
    "# Initialize the matplotlib figure\n",
    "plt.figure(figsize=(10, 6))\n",
    "\n",
    "# Scatter plot using seaborn\n",
    "scatter = sns.scatterplot(\n",
    "    data=df,\n",
    "    x='congestion',\n",
    "    y='processing_time',\n",
    "    hue='parcel_type',\n",
    "    palette={'Domestic': 'red', 'International': 'blue'},\n",
    "    alpha=0.7\n",
    ")\n",
    "\n",
    "# Add linear regression lines (black) for each parcel type without adding them to legend\n",
    "for parcel_type in df['parcel_type'].unique():\n",
    "    subset = df[df['parcel_type'] == parcel_type]\n",
    "    z = np.polyfit(subset['congestion'], subset['processing_time'], 1)\n",
    "    p = np.poly1d(z)\n",
    "    plt.plot(\n",
    "        np.sort(subset['congestion']),\n",
    "        p(np.sort(subset['congestion'])),\n",
    "        color='black',\n",
    "        linestyle='-',\n",
    "        linewidth=2\n",
    "    )\n",
    "\n",
    "# Customize and display the plot\n",
    "plt.title('Processing Time vs Congestion by Parcel Type')\n",
    "plt.xlabel('Congestion Level')\n",
    "plt.ylabel('Processing Time (minutes)')\n",
    "plt.grid(True)\n",
    "plt.tight_layout()\n",
    "\n",
    "# Place legend outside the plot\n",
    "plt.legend(title='Parcel Type', bbox_to_anchor=(1, 1), loc='upper left')\n",
    "plt.show()"
   ]
  },
  {
   "cell_type": "code",
   "execution_count": 10,
   "id": "a78820e4",
   "metadata": {},
   "outputs": [
    {
     "data": {
      "image/png": "[encoded data removed]",
      "text/plain": [
       "<Figure size 900x600 with 1 Axes>"
      ]
     },
     "metadata": {},
     "output_type": "display_data"
    }
   ],
   "source": [
    "# Set the size of the figure\n",
    "plt.figure(figsize=(9, 6))\n",
    "\n",
    "# Create the box plot\n",
    "sns.boxplot(\n",
    "    data=df,\n",
    "    x='processing_time',\n",
    "    y='unloading_port',\n",
    "    hue='parcel_type',\n",
    "    palette={'Domestic': 'red', 'International': 'blue'}\n",
    ")\n",
    "\n",
    "# Customize the plot\n",
    "plt.title('Processing Time by Unloading Port and Parcel Type')\n",
    "plt.xlabel('Processing Time (minutes)')\n",
    "plt.ylabel('Unloading Port')\n",
    "plt.legend(title='Parcel Type', bbox_to_anchor=(1, 1), loc='upper left')\n",
    "plt.tight_layout()\n",
    "\n",
    "# Display the plot\n",
    "plt.show()"
   ]
  },
  {
   "cell_type": "code",
   "execution_count": 11,
   "id": "a56d2fab",
   "metadata": {},
   "outputs": [
    {
     "data": {
      "application/vnd.plotly.v1+json": {
       "config": {
        "plotlyServerURL": "https://plot.ly"
       },
       "data": [
        {
         "alignmentgroup": "True",
         "hovertemplate": "Parcel Type=International<br>Processing Time (minutes)=%{x}<br>Unloading Port=%{y}<extra></extra>",
         "legendgroup": "International",
         "marker": {
          "color": "blue"
         },
         "name": "International",
         "notched": false,
         "offsetgroup": "International",
         "orientation": "h",
         "showlegend": true,
         "type": "box",
         "x": [
          31,
          17,
          21,
          21,
          33,
          30,
          28,
          33,
          29,
          43,
          35,
          28,
          31,
          30,
          22,
          25,
          24,
          20,
          41,
          24,
          35,
          24,
          24,
          33,
          37,
          42,
          42,
          37,
          10,
          41,
          37,
          43,
          15,
          32,
          17,
          36,
          23,
          35,
          29,
          30,
          12,
          26,
          35,
          42,
          22,
          23,
          42,
          42,
          43,
          37,
          33,
          32,
          30,
          35,
          47,
          20,
          29,
          38,
          31,
          27,
          30,
          20,
          33,
          31,
          38,
          38,
          41,
          26,
          32,
          34,
          29,
          18,
          26,
          29,
          30,
          29,
          29,
          16,
          17,
          28,
          31,
          30,
          25,
          23,
          30,
          27,
          46,
          18,
          49,
          36,
          25,
          31,
          32,
          51,
          32,
          52,
          35,
          32,
          42,
          29,
          40,
          17,
          23,
          33,
          25,
          29,
          45,
          25,
          23,
          43,
          28,
          34,
          28,
          36,
          34,
          32,
          33,
          26,
          39,
          26,
          23,
          39,
          40,
          34,
          38,
          36,
          42,
          41,
          36,
          40,
          38,
          20,
          36,
          43,
          27,
          30,
          36,
          32,
          24,
          38,
          28,
          29,
          29,
          35,
          22,
          49,
          30,
          31,
          39,
          22,
          27,
          34,
          29,
          34,
          35,
          25,
          30,
          42,
          33,
          27,
          43,
          33,
          34,
          32,
          42,
          20,
          34,
          25,
          31,
          39,
          21,
          36,
          34,
          42,
          43,
          38,
          37,
          31,
          27,
          47,
          33,
          43,
          18,
          42,
          38,
          37,
          44,
          31,
          37,
          42,
          36,
          23,
          37,
          41,
          34,
          51,
          25,
          23,
          29,
          44,
          39,
          33,
          21,
          24,
          26,
          35,
          40,
          33,
          11,
          36,
          30,
          26,
          32,
          29,
          23,
          23,
          34,
          25,
          26,
          24,
          29,
          33,
          30,
          42,
          42,
          35,
          17,
          29,
          31,
          34,
          21,
          34,
          34,
          29,
          53,
          33,
          39,
          30,
          33,
          33,
          35,
          35,
          34,
          41,
          35,
          31
         ],
         "x0": " ",
         "xaxis": "x",
         "y": [
          "SE01",
          "SE01",
          "SE01",
          "SE01",
          "SE01",
          "SE01",
          "SE01",
          "SE01",
          "SE01",
          "SE01",
          "SE01",
          "SE01",
          "SE01",
          "SE01",
          "SE01",
          "SE01",
          "SE01",
          "SE01",
          "SE01",
          "SE01",
          "SE01",
          "SE01",
          "SE01",
          "SE01",
          "SE01",
          "SE01",
          "SE01",
          "SE01",
          "SE01",
          "SE01",
          "SE01",
          "SE01",
          "SE01",
          "SE01",
          "SE01",
          "SE01",
          "SE01",
          "SE01",
          "SE01",
          "SE01",
          "SE01",
          "SE01",
          "SE01",
          "SE01",
          "SE01",
          "SE01",
          "SE01",
          "SE01",
          "SE01",
          "SE01",
          "SE01",
          "SE01",
          "SE01",
          "SE01",
          "SE01",
          "SE01",
          "SE01",
          "SE01",
          "SE01",
          "SE01",
          "SE01",
          "SE01",
          "SE01",
          "SE01",
          "SE01",
          "SE01",
          "SE01",
          "SE01",
          "SE01",
          "SE01",
          "SE01",
          "SE01",
          "SE01",
          "SE01",
          "SE01",
          "SE01",
          "SE01",
          "SE01",
          "SE01",
          "SE01",
          "SE01",
          "SE01",
          "SE01",
          "SE01",
          "SE01",
          "SE01",
          "SE01",
          "SE01",
          "SE01",
          "SE01",
          "SE01",
          "SE01",
          "SE01",
          "SE01",
          "SE01",
          "SE01",
          "SE01",
          "SE01",
          "SE01",
          "SE01",
          "SE01",
          "SE01",
          "SE01",
          "SE01",
          "SE01",
          "SE01",
          "SE01",
          "SE01",
          "SE01",
          "SE01",
          "SE01",
          "SE01",
          "SE01",
          "SE01",
          "SE01",
          "SE01",
          "SE01",
          "SE01",
          "SE01",
          "SE01",
          "SE01",
          "SE01",
          "SE01",
          "SE01",
          "SE01",
          "SE01",
          "SE01",
          "SE01",
          "SE01",
          "SE01",
          "SE01",
          "SE01",
          "SE01",
          "SE01",
          "SE01",
          "SE01",
          "SE01",
          "SE01",
          "SE01",
          "SE01",
          "SE01",
          "SE01",
          "SE02",
          "SE02",
          "SE01",
          "SE01",
          "SE01",
          "SE02",
          "SE02",
          "SE02",
          "SE02",
          "SE02",
          "SE02",
          "SE02",
          "SE02",
          "SE02",
          "SE02",
          "SE02",
          "SE02",
          "SE02",
          "SE02",
          "SE02",
          "SE02",
          "SE02",
          "SE02",
          "SE02",
          "SE02",
          "SE02",
          "SE02",
          "SE02",
          "SE02",
          "SE02",
          "SE02",
          "SE02",
          "SE02",
          "SE02",
          "SE02",
          "SE02",
          "SE02",
          "SE02",
          "SE02",
          "SE02",
          "SE02",
          "SE02",
          "SE02",
          "SE02",
          "SE02",
          "SE02",
          "SE02",
          "SE02",
          "SE02",
          "SE02",
          "SE02",
          "SE02",
          "SE02",
          "SE02",
          "SE02",
          "SE02",
          "SE02",
          "SE02",
          "SE02",
          "SE02",
          "SE02",
          "SE02",
          "SE02",
          "SE02",
          "SE02",
          "SE02",
          "SE02",
          "SE02",
          "SE02",
          "SE02",
          "SE02",
          "SE02",
          "SE02",
          "SE02",
          "SE02",
          "SE02",
          "SE02",
          "SE02",
          "SE02",
          "SE02",
          "SE02",
          "SE02",
          "SE02",
          "SE02",
          "SE02",
          "SE02",
          "SE02",
          "SE02",
          "SE02",
          "SE02",
          "SE02",
          "SE02",
          "SE02",
          "SE02",
          "SE02",
          "SE02",
          "SE02",
          "SE02",
          "SE02",
          "SE02",
          "SE02",
          "SE02",
          "SE02",
          "SE02"
         ],
         "y0": " ",
         "yaxis": "y"
        },
        {
         "alignmentgroup": "True",
         "hovertemplate": "Parcel Type=Domestic<br>Processing Time (minutes)=%{x}<br>Unloading Port=%{y}<extra></extra>",
         "legendgroup": "Domestic",
         "marker": {
          "color": "red"
         },
         "name": "Domestic",
         "notched": false,
         "offsetgroup": "Domestic",
         "orientation": "h",
         "showlegend": true,
         "type": "box",
         "x": [
          16,
          12,
          14,
          14,
          15,
          11,
          15,
          16,
          15,
          14,
          12,
          15,
          15,
          14,
          16,
          14,
          16,
          18,
          20,
          17,
          16,
          15,
          14,
          15,
          13,
          14,
          15,
          18,
          15,
          17,
          14,
          15,
          19,
          17,
          17,
          17,
          14,
          17,
          14,
          14,
          9,
          16,
          17,
          18,
          16,
          17,
          15,
          13,
          17,
          14,
          16,
          14,
          18,
          19,
          13,
          19,
          17,
          17,
          15,
          15,
          18,
          14,
          20,
          16,
          19,
          13,
          19,
          13,
          20,
          17,
          17,
          16,
          18,
          14,
          17,
          16,
          17,
          18,
          17,
          16,
          20,
          15,
          18,
          15,
          24,
          15,
          16,
          18,
          23,
          19,
          18,
          16,
          19,
          18,
          17,
          13,
          17,
          19,
          20,
          20,
          12,
          16,
          24,
          13,
          16,
          18,
          19,
          16,
          18,
          18,
          18,
          14,
          14,
          17,
          15,
          14,
          14,
          20,
          17,
          16,
          16,
          17,
          16,
          17,
          17,
          21,
          14,
          14,
          17,
          18,
          15,
          12,
          17,
          18,
          16,
          18,
          17,
          16,
          19,
          20,
          17,
          20,
          15,
          17,
          19,
          18,
          20,
          14,
          16,
          16,
          11,
          17,
          15,
          17,
          16,
          19,
          14,
          17,
          17,
          18,
          15,
          20,
          20,
          17,
          15,
          20,
          13,
          15,
          23,
          19,
          14,
          19,
          14,
          21,
          16,
          20,
          18,
          14,
          18,
          13,
          17,
          17,
          16,
          18,
          15,
          18,
          16,
          18,
          17,
          17,
          14,
          21,
          21,
          17,
          21,
          16,
          23,
          14,
          19,
          24,
          19,
          16,
          20,
          16,
          17,
          17,
          15,
          19,
          18,
          20,
          13,
          17,
          15,
          17,
          16,
          14,
          14,
          14,
          14,
          12,
          20,
          15,
          15,
          15,
          16,
          18,
          19,
          13,
          14,
          18,
          12,
          19,
          17,
          22,
          16,
          20,
          17,
          15,
          21,
          20,
          13,
          12,
          16,
          13,
          12,
          12,
          17,
          17,
          19,
          13,
          18,
          15,
          15,
          21,
          15,
          18,
          12,
          14,
          15,
          17,
          19,
          13,
          19,
          16,
          17,
          16,
          19,
          15,
          18,
          17,
          14,
          15,
          15,
          17,
          19,
          18,
          16,
          13,
          17,
          16,
          16,
          16,
          16,
          20,
          14,
          10,
          16,
          17,
          15,
          19,
          15,
          19,
          16,
          16,
          15,
          15,
          19,
          14,
          19,
          15,
          20,
          17,
          18,
          24,
          15,
          18,
          17,
          15,
          13,
          13,
          17,
          18,
          17,
          18,
          21,
          18,
          15,
          18,
          20,
          16,
          15,
          18,
          13,
          14,
          18,
          19,
          16,
          19,
          16,
          14,
          15,
          15,
          19,
          17,
          21,
          14,
          20,
          13,
          13,
          17,
          22,
          19,
          17,
          18,
          23,
          18,
          22,
          19,
          20,
          19,
          16,
          18,
          17,
          20,
          15,
          15,
          22,
          14,
          15,
          19,
          13,
          23,
          15,
          17,
          16,
          12,
          17,
          20,
          21,
          15,
          18,
          16,
          18,
          15,
          17,
          24,
          19,
          18,
          16,
          18,
          21,
          13,
          17,
          17,
          13,
          16,
          17,
          16,
          21,
          16,
          13,
          13,
          13,
          18,
          13,
          20,
          17,
          17,
          14,
          14,
          17,
          16,
          15,
          20,
          18,
          14,
          18,
          16,
          17,
          19,
          17,
          17,
          17,
          17,
          18,
          18,
          13,
          16,
          15,
          14,
          14,
          21,
          16,
          13,
          12,
          15,
          18,
          17,
          23,
          18,
          18,
          14,
          19,
          17,
          22,
          16,
          11,
          15,
          15,
          13,
          16,
          14,
          17,
          19,
          17,
          14,
          19,
          17,
          14,
          19,
          17,
          15,
          14,
          20,
          19,
          19,
          19,
          20,
          17,
          23,
          16,
          16,
          24,
          14,
          16,
          14,
          12,
          20,
          14,
          21,
          15,
          17
         ],
         "x0": " ",
         "xaxis": "x",
         "y": [
          "SE02",
          "SE02",
          "SE02",
          "SE02",
          "SE02",
          "SE02",
          "SE02",
          "SE02",
          "SE02",
          "SE02",
          "SE02",
          "SE02",
          "SE02",
          "SE02",
          "SE02",
          "SE02",
          "SE02",
          "SE02",
          "SE02",
          "SE02",
          "SE02",
          "SE02",
          "SE02",
          "SE02",
          "SE02",
          "SE02",
          "SE02",
          "SE02",
          "SE02",
          "SE02",
          "SE02",
          "SE02",
          "SE02",
          "SE02",
          "SE02",
          "SE02",
          "SE02",
          "SE02",
          "SE02",
          "SE02",
          "SE02",
          "SE02",
          "SW01",
          "SE02",
          "SW01",
          "SE02",
          "SW01",
          "SW01",
          "SW01",
          "SW01",
          "SW01",
          "SW01",
          "SW01",
          "SW01",
          "SW01",
          "SW01",
          "SW01",
          "SW01",
          "SW01",
          "SW01",
          "SW01",
          "SW01",
          "SW01",
          "SW01",
          "SW01",
          "SW01",
          "SW01",
          "SW01",
          "SW01",
          "SW01",
          "SW01",
          "SW01",
          "SW01",
          "SW01",
          "SW01",
          "SW01",
          "SW01",
          "SW01",
          "SW01",
          "SW01",
          "SW01",
          "SW01",
          "SW01",
          "SW01",
          "SW01",
          "SW01",
          "SW01",
          "SW01",
          "SW01",
          "SW01",
          "SW01",
          "SW01",
          "SW01",
          "SW01",
          "SW01",
          "SW01",
          "SW01",
          "SW01",
          "SW01",
          "SW01",
          "SW01",
          "SW01",
          "SW01",
          "SW01",
          "SW01",
          "SW01",
          "SW01",
          "SW01",
          "SW01",
          "SW01",
          "SW01",
          "SW01",
          "SW01",
          "SW01",
          "SW01",
          "SW01",
          "SW01",
          "SW01",
          "SW01",
          "SW01",
          "SW01",
          "SW01",
          "SW01",
          "SW01",
          "SW01",
          "SW01",
          "SW01",
          "SW01",
          "SW01",
          "SW01",
          "SW01",
          "SW01",
          "SW01",
          "SW01",
          "SW01",
          "SW01",
          "SW01",
          "SW01",
          "SW01",
          "SW01",
          "SW01",
          "SW01",
          "SW01",
          "SW01",
          "SW01",
          "SW01",
          "SW01",
          "SW01",
          "SW01",
          "SW01",
          "SW01",
          "SW01",
          "SW01",
          "SW01",
          "SW01",
          "SW01",
          "SW01",
          "SW01",
          "SW01",
          "SW01",
          "SW01",
          "SW01",
          "SW01",
          "SW01",
          "SW01",
          "SW01",
          "SW01",
          "SW01",
          "SW01",
          "SW01",
          "SW01",
          "SW01",
          "SW01",
          "SW01",
          "SW01",
          "SW01",
          "SW01",
          "SW01",
          "SW01",
          "SW01",
          "SW01",
          "SW01",
          "SW01",
          "SW01",
          "SW01",
          "SW01",
          "SW01",
          "SW01",
          "SW02",
          "SW02",
          "SW02",
          "SW02",
          "SW01",
          "SW02",
          "SW02",
          "SW02",
          "SW02",
          "SW02",
          "SW02",
          "SW02",
          "SW02",
          "SW02",
          "SW02",
          "SW02",
          "SW02",
          "SW02",
          "SW02",
          "SW02",
          "SW02",
          "SW02",
          "SW02",
          "SW02",
          "SW02",
          "SW02",
          "SW02",
          "SW02",
          "SW02",
          "SW02",
          "SW02",
          "SW02",
          "SW02",
          "SW02",
          "SW02",
          "SW02",
          "SW02",
          "SW02",
          "SW02",
          "SW02",
          "SW02",
          "SW02",
          "SW02",
          "SW02",
          "SW02",
          "SW02",
          "SW02",
          "SW02",
          "SW02",
          "SW02",
          "SW02",
          "SW02",
          "SW02",
          "SW02",
          "SW02",
          "SW02",
          "SW02",
          "SW02",
          "SW02",
          "SW02",
          "SW02",
          "SW02",
          "SW02",
          "SW02",
          "SW02",
          "SW02",
          "SW02",
          "SW02",
          "SW02",
          "SW02",
          "SW02",
          "SW02",
          "SW02",
          "SW02",
          "SW02",
          "SW02",
          "SW02",
          "SW02",
          "SW02",
          "SW02",
          "SW02",
          "SW02",
          "SW02",
          "SW02",
          "SW02",
          "SW02",
          "SW02",
          "SW02",
          "SW02",
          "SW02",
          "SW02",
          "SW02",
          "SW02",
          "SW02",
          "SW02",
          "SW02",
          "SW02",
          "SW02",
          "SW02",
          "SW02",
          "SW02",
          "SW02",
          "SW02",
          "SW02",
          "SW02",
          "SW02",
          "SW02",
          "SW02",
          "SW02",
          "SW02",
          "SW02",
          "SW02",
          "SW02",
          "SW02",
          "SW02",
          "SW02",
          "SW02",
          "SW02",
          "SW02",
          "SW02",
          "SW02",
          "SW02",
          "SW02",
          "SW02",
          "SW02",
          "SW02",
          "SW02",
          "SW02",
          "SW02",
          "SW02",
          "SW02",
          "SW02",
          "SW02",
          "SW02",
          "SW02",
          "SW02",
          "SW02",
          "SW02",
          "SW02",
          "SW02",
          "SW02",
          "SW02",
          "SW02",
          "SW02",
          "SN01",
          "SW02",
          "SW02",
          "SN01",
          "SN01",
          "SN01",
          "SN01",
          "SN01",
          "SN01",
          "SN01",
          "SN01",
          "SN01",
          "SN01",
          "SN01",
          "SN01",
          "SN01",
          "SN01",
          "SN01",
          "SN01",
          "SN01",
          "SN01",
          "SN01",
          "SN01",
          "SN01",
          "SN01",
          "SN01",
          "SN01",
          "SN01",
          "SN01",
          "SN01",
          "SN01",
          "SN01",
          "SN01",
          "SN01",
          "SN01",
          "SN01",
          "SN01",
          "SN01",
          "SN01",
          "SN01",
          "SN01",
          "SN01",
          "SN01",
          "SN01",
          "SN01",
          "SN01",
          "SN01",
          "SN01",
          "SN01",
          "SN01",
          "SN01",
          "SN01",
          "SN01",
          "SN01",
          "SN01",
          "SN01",
          "SN01",
          "SN01",
          "SN01",
          "SN01",
          "SN01",
          "SN01",
          "SN01",
          "SN01",
          "SN01",
          "SN01",
          "SN01",
          "SN01",
          "SN01",
          "SN01",
          "SN01",
          "SN01",
          "SN01",
          "SN01",
          "SN01",
          "SN01",
          "SN01",
          "SN01",
          "SN01",
          "SN01",
          "SN01",
          "SN01",
          "SN01",
          "SN01",
          "SN01",
          "SN01",
          "SN01",
          "SN01",
          "SN01",
          "SN01",
          "SN01",
          "SN01",
          "SN01",
          "SN01",
          "SN01",
          "SN01",
          "SN01",
          "SN01",
          "SN01",
          "SN01",
          "SN01",
          "SN01",
          "SN01",
          "SN01",
          "SN01",
          "SN01",
          "SN01",
          "SN01",
          "SN01",
          "SN01",
          "SN01",
          "SN01",
          "SN01",
          "SN01",
          "SN01",
          "SN01",
          "SN01",
          "SN01",
          "SN01",
          "SN01",
          "SN01",
          "SN01",
          "SN01",
          "SN01",
          "SN01",
          "SN01",
          "SN01",
          "SN01",
          "SN01",
          "SN01",
          "SN01",
          "SN01",
          "SN01",
          "SN01",
          "SN01",
          "SN01",
          "SN01",
          "SN01",
          "SN01",
          "SN01"
         ],
         "y0": " ",
         "yaxis": "y"
        }
       ],
       "layout": {
        "boxmode": "group",
        "legend": {
         "title": {
          "text": "Parcel Type"
         },
         "tracegroupgap": 0
        },
        "template": {
         "data": {
          "bar": [
           {
            "error_x": {
             "color": "#2a3f5f"
            },
            "error_y": {
             "color": "#2a3f5f"
            },
            "marker": {
             "line": {
              "color": "#E5ECF6",
              "width": 0.5
             },
             "pattern": {
              "fillmode": "overlay",
              "size": 10,
              "solidity": 0.2
             }
            },
            "type": "bar"
           }
          ],
          "barpolar": [
           {
            "marker": {
             "line": {
              "color": "#E5ECF6",
              "width": 0.5
             },
             "pattern": {
              "fillmode": "overlay",
              "size": 10,
              "solidity": 0.2
             }
            },
            "type": "barpolar"
           }
          ],
          "carpet": [
           {
            "aaxis": {
             "endlinecolor": "#2a3f5f",
             "gridcolor": "white",
             "linecolor": "white",
             "minorgridcolor": "white",
             "startlinecolor": "#2a3f5f"
            },
            "baxis": {
             "endlinecolor": "#2a3f5f",
             "gridcolor": "white",
             "linecolor": "white",
             "minorgridcolor": "white",
             "startlinecolor": "#2a3f5f"
            },
            "type": "carpet"
           }
          ],
          "choropleth": [
           {
            "colorbar": {
             "outlinewidth": 0,
             "ticks": ""
            },
            "type": "choropleth"
           }
          ],
          "contour": [
           {
            "colorbar": {
             "outlinewidth": 0,
             "ticks": ""
            },
            "colorscale": [
             [
              0,
              "#0d0887"
             ],
             [
              0.1111111111111111,
              "#46039f"
             ],
             [
              0.2222222222222222,
              "#7201a8"
             ],
             [
              0.3333333333333333,
              "#9c179e"
             ],
             [
              0.4444444444444444,
              "#bd3786"
             ],
             [
              0.5555555555555556,
              "#d8576b"
             ],
             [
              0.6666666666666666,
              "#ed7953"
             ],
             [
              0.7777777777777778,
              "#fb9f3a"
             ],
             [
              0.8888888888888888,
              "#fdca26"
             ],
             [
              1,
              "#f0f921"
             ]
            ],
            "type": "contour"
           }
          ],
          "contourcarpet": [
           {
            "colorbar": {
             "outlinewidth": 0,
             "ticks": ""
            },
            "type": "contourcarpet"
           }
          ],
          "heatmap": [
           {
            "colorbar": {
             "outlinewidth": 0,
             "ticks": ""
            },
            "colorscale": [
             [
              0,
              "#0d0887"
             ],
             [
              0.1111111111111111,
              "#46039f"
             ],
             [
              0.2222222222222222,
              "#7201a8"
             ],
             [
              0.3333333333333333,
              "#9c179e"
             ],
             [
              0.4444444444444444,
              "#bd3786"
             ],
             [
              0.5555555555555556,
              "#d8576b"
             ],
             [
              0.6666666666666666,
              "#ed7953"
             ],
             [
              0.7777777777777778,
              "#fb9f3a"
             ],
             [
              0.8888888888888888,
              "#fdca26"
             ],
             [
              1,
              "#f0f921"
             ]
            ],
            "type": "heatmap"
           }
          ],
          "heatmapgl": [
           {
            "colorbar": {
             "outlinewidth": 0,
             "ticks": ""
            },
            "colorscale": [
             [
              0,
              "#0d0887"
             ],
             [
              0.1111111111111111,
              "#46039f"
             ],
             [
              0.2222222222222222,
              "#7201a8"
             ],
             [
              0.3333333333333333,
              "#9c179e"
             ],
             [
              0.4444444444444444,
              "#bd3786"
             ],
             [
              0.5555555555555556,
              "#d8576b"
             ],
             [
              0.6666666666666666,
              "#ed7953"
             ],
             [
              0.7777777777777778,
              "#fb9f3a"
             ],
             [
              0.8888888888888888,
              "#fdca26"
             ],
             [
              1,
              "#f0f921"
             ]
            ],
            "type": "heatmapgl"
           }
          ],
          "histogram": [
           {
            "marker": {
             "pattern": {
              "fillmode": "overlay",
              "size": 10,
              "solidity": 0.2
             }
            },
            "type": "histogram"
           }
          ],
          "histogram2d": [
           {
            "colorbar": {
             "outlinewidth": 0,
             "ticks": ""
            },
            "colorscale": [
             [
              0,
              "#0d0887"
             ],
             [
              0.1111111111111111,
              "#46039f"
             ],
             [
              0.2222222222222222,
              "#7201a8"
             ],
             [
              0.3333333333333333,
              "#9c179e"
             ],
             [
              0.4444444444444444,
              "#bd3786"
             ],
             [
              0.5555555555555556,
              "#d8576b"
             ],
             [
              0.6666666666666666,
              "#ed7953"
             ],
             [
              0.7777777777777778,
              "#fb9f3a"
             ],
             [
              0.8888888888888888,
              "#fdca26"
             ],
             [
              1,
              "#f0f921"
             ]
            ],
            "type": "histogram2d"
           }
          ],
          "histogram2dcontour": [
           {
            "colorbar": {
             "outlinewidth": 0,
             "ticks": ""
            },
            "colorscale": [
             [
              0,
              "#0d0887"
             ],
             [
              0.1111111111111111,
              "#46039f"
             ],
             [
              0.2222222222222222,
              "#7201a8"
             ],
             [
              0.3333333333333333,
              "#9c179e"
             ],
             [
              0.4444444444444444,
              "#bd3786"
             ],
             [
              0.5555555555555556,
              "#d8576b"
             ],
             [
              0.6666666666666666,
              "#ed7953"
             ],
             [
              0.7777777777777778,
              "#fb9f3a"
             ],
             [
              0.8888888888888888,
              "#fdca26"
             ],
             [
              1,
              "#f0f921"
             ]
            ],
            "type": "histogram2dcontour"
           }
          ],
          "mesh3d": [
           {
            "colorbar": {
             "outlinewidth": 0,
             "ticks": ""
            },
            "type": "mesh3d"
           }
          ],
          "parcoords": [
           {
            "line": {
             "colorbar": {
              "outlinewidth": 0,
              "ticks": ""
             }
            },
            "type": "parcoords"
           }
          ],
          "pie": [
           {
            "automargin": true,
            "type": "pie"
           }
          ],
          "scatter": [
           {
            "fillpattern": {
             "fillmode": "overlay",
             "size": 10,
             "solidity": 0.2
            },
            "type": "scatter"
           }
          ],
          "scatter3d": [
           {
            "line": {
             "colorbar": {
              "outlinewidth": 0,
              "ticks": ""
             }
            },
            "marker": {
             "colorbar": {
              "outlinewidth": 0,
              "ticks": ""
             }
            },
            "type": "scatter3d"
           }
          ],
          "scattercarpet": [
           {
            "marker": {
             "colorbar": {
              "outlinewidth": 0,
              "ticks": ""
             }
            },
            "type": "scattercarpet"
           }
          ],
          "scattergeo": [
           {
            "marker": {
             "colorbar": {
              "outlinewidth": 0,
              "ticks": ""
             }
            },
            "type": "scattergeo"
           }
          ],
          "scattergl": [
           {
            "marker": {
             "colorbar": {
              "outlinewidth": 0,
              "ticks": ""
             }
            },
            "type": "scattergl"
           }
          ],
          "scattermapbox": [
           {
            "marker": {
             "colorbar": {
              "outlinewidth": 0,
              "ticks": ""
             }
            },
            "type": "scattermapbox"
           }
          ],
          "scatterpolar": [
           {
            "marker": {
             "colorbar": {
              "outlinewidth": 0,
              "ticks": ""
             }
            },
            "type": "scatterpolar"
           }
          ],
          "scatterpolargl": [
           {
            "marker": {
             "colorbar": {
              "outlinewidth": 0,
              "ticks": ""
             }
            },
            "type": "scatterpolargl"
           }
          ],
          "scatterternary": [
           {
            "marker": {
             "colorbar": {
              "outlinewidth": 0,
              "ticks": ""
             }
            },
            "type": "scatterternary"
           }
          ],
          "surface": [
           {
            "colorbar": {
             "outlinewidth": 0,
             "ticks": ""
            },
            "colorscale": [
             [
              0,
              "#0d0887"
             ],
             [
              0.1111111111111111,
              "#46039f"
             ],
             [
              0.2222222222222222,
              "#7201a8"
             ],
             [
              0.3333333333333333,
              "#9c179e"
             ],
             [
              0.4444444444444444,
              "#bd3786"
             ],
             [
              0.5555555555555556,
              "#d8576b"
             ],
             [
              0.6666666666666666,
              "#ed7953"
             ],
             [
              0.7777777777777778,
              "#fb9f3a"
             ],
             [
              0.8888888888888888,
              "#fdca26"
             ],
             [
              1,
              "#f0f921"
             ]
            ],
            "type": "surface"
           }
          ],
          "table": [
           {
            "cells": {
             "fill": {
              "color": "#EBF0F8"
             },
             "line": {
              "color": "white"
             }
            },
            "header": {
             "fill": {
              "color": "#C8D4E3"
             },
             "line": {
              "color": "white"
             }
            },
            "type": "table"
           }
          ]
         },
         "layout": {
          "annotationdefaults": {
           "arrowcolor": "#2a3f5f",
           "arrowhead": 0,
           "arrowwidth": 1
          },
          "autotypenumbers": "strict",
          "coloraxis": {
           "colorbar": {
            "outlinewidth": 0,
            "ticks": ""
           }
          },
          "colorscale": {
           "diverging": [
            [
             0,
             "#8e0152"
            ],
            [
             0.1,
             "#c51b7d"
            ],
            [
             0.2,
             "#de77ae"
            ],
            [
             0.3,
             "#f1b6da"
            ],
            [
             0.4,
             "#fde0ef"
            ],
            [
             0.5,
             "#f7f7f7"
            ],
            [
             0.6,
             "#e6f5d0"
            ],
            [
             0.7,
             "#b8e186"
            ],
            [
             0.8,
             "#7fbc41"
            ],
            [
             0.9,
             "#4d9221"
            ],
            [
             1,
             "#276419"
            ]
           ],
           "sequential": [
            [
             0,
             "#0d0887"
            ],
            [
             0.1111111111111111,
             "#46039f"
            ],
            [
             0.2222222222222222,
             "#7201a8"
            ],
            [
             0.3333333333333333,
             "#9c179e"
            ],
            [
             0.4444444444444444,
             "#bd3786"
            ],
            [
             0.5555555555555556,
             "#d8576b"
            ],
            [
             0.6666666666666666,
             "#ed7953"
            ],
            [
             0.7777777777777778,
             "#fb9f3a"
            ],
            [
             0.8888888888888888,
             "#fdca26"
            ],
            [
             1,
             "#f0f921"
            ]
           ],
           "sequentialminus": [
            [
             0,
             "#0d0887"
            ],
            [
             0.1111111111111111,
             "#46039f"
            ],
            [
             0.2222222222222222,
             "#7201a8"
            ],
            [
             0.3333333333333333,
             "#9c179e"
            ],
            [
             0.4444444444444444,
             "#bd3786"
            ],
            [
             0.5555555555555556,
             "#d8576b"
            ],
            [
             0.6666666666666666,
             "#ed7953"
            ],
            [
             0.7777777777777778,
             "#fb9f3a"
            ],
            [
             0.8888888888888888,
             "#fdca26"
            ],
            [
             1,
             "#f0f921"
            ]
           ]
          },
          "colorway": [
           "#636efa",
           "#EF553B",
           "#00cc96",
           "#ab63fa",
           "#FFA15A",
           "#19d3f3",
           "#FF6692",
           "#B6E880",
           "#FF97FF",
           "#FECB52"
          ],
          "font": {
           "color": "#2a3f5f"
          },
          "geo": {
           "bgcolor": "white",
           "lakecolor": "white",
           "landcolor": "#E5ECF6",
           "showlakes": true,
           "showland": true,
           "subunitcolor": "white"
          },
          "hoverlabel": {
           "align": "left"
          },
          "hovermode": "closest",
          "mapbox": {
           "style": "light"
          },
          "paper_bgcolor": "white",
          "plot_bgcolor": "#E5ECF6",
          "polar": {
           "angularaxis": {
            "gridcolor": "white",
            "linecolor": "white",
            "ticks": ""
           },
           "bgcolor": "#E5ECF6",
           "radialaxis": {
            "gridcolor": "white",
            "linecolor": "white",
            "ticks": ""
           }
          },
          "scene": {
           "xaxis": {
            "backgroundcolor": "#E5ECF6",
            "gridcolor": "white",
            "gridwidth": 2,
            "linecolor": "white",
            "showbackground": true,
            "ticks": "",
            "zerolinecolor": "white"
           },
           "yaxis": {
            "backgroundcolor": "#E5ECF6",
            "gridcolor": "white",
            "gridwidth": 2,
            "linecolor": "white",
            "showbackground": true,
            "ticks": "",
            "zerolinecolor": "white"
           },
           "zaxis": {
            "backgroundcolor": "#E5ECF6",
            "gridcolor": "white",
            "gridwidth": 2,
            "linecolor": "white",
            "showbackground": true,
            "ticks": "",
            "zerolinecolor": "white"
           }
          },
          "shapedefaults": {
           "line": {
            "color": "#2a3f5f"
           }
          },
          "ternary": {
           "aaxis": {
            "gridcolor": "white",
            "linecolor": "white",
            "ticks": ""
           },
           "baxis": {
            "gridcolor": "white",
            "linecolor": "white",
            "ticks": ""
           },
           "bgcolor": "#E5ECF6",
           "caxis": {
            "gridcolor": "white",
            "linecolor": "white",
            "ticks": ""
           }
          },
          "title": {
           "x": 0.05
          },
          "xaxis": {
           "automargin": true,
           "gridcolor": "white",
           "linecolor": "white",
           "ticks": "",
           "title": {
            "standoff": 15
           },
           "zerolinecolor": "white",
           "zerolinewidth": 2
          },
          "yaxis": {
           "automargin": true,
           "gridcolor": "white",
           "linecolor": "white",
           "ticks": "",
           "title": {
            "standoff": 15
           },
           "zerolinecolor": "white",
           "zerolinewidth": 2
          }
         }
        },
        "title": {
         "text": "Processing Time by Unloading Port and Parcel Type"
        },
        "xaxis": {
         "anchor": "y",
         "domain": [
          0,
          1
         ],
         "title": {
          "text": "Processing Time (minutes)"
         }
        },
        "yaxis": {
         "anchor": "x",
         "domain": [
          0,
          1
         ],
         "title": {
          "text": "Unloading Port"
         }
        }
       }
      }
     },
     "metadata": {},
     "output_type": "display_data"
    }
   ],
   "source": [
    "# Create interactive box plot\n",
    "fig = px.box(\n",
    "    df,\n",
    "    x='processing_time',\n",
    "    y='unloading_port',\n",
    "    color='parcel_type',\n",
    "    title='Processing Time by Unloading Port and Parcel Type',\n",
    "    labels={\n",
    "        'processing_time': 'Processing Time (minutes)',\n",
    "        'unloading_port': 'Unloading Port',\n",
    "        'parcel_type': 'Parcel Type'\n",
    "    },\n",
    "    color_discrete_map={'Domestic': 'red', 'International': 'blue'}\n",
    ")\n",
    "\n",
    "fig.show()"
   ]
  },
  {
   "cell_type": "code",
   "execution_count": 12,
   "id": "5b0884d2",
   "metadata": {},
   "outputs": [
    {
     "data": {
      "image/png": "[encoded data removed]",
      "text/plain": [
       "<Figure size 900x600 with 1 Axes>"
      ]
     },
     "metadata": {},
     "output_type": "display_data"
    }
   ],
   "source": [
    "# Set the size of the figure\n",
    "plt.figure(figsize=(9, 6))\n",
    "\n",
    "# Create the box plot\n",
    "sns.boxplot(\n",
    "    data=df,\n",
    "    x='processing_time',\n",
    "    y='loading_port',\n",
    "    hue='parcel_type',\n",
    "    palette={'Domestic': 'red', 'International': 'blue'}\n",
    ")\n",
    "\n",
    "# Customize the plot\n",
    "plt.title('Processing Time by Loading Port and Parcel Type')\n",
    "plt.xlabel('Processing Time (minutes)')\n",
    "plt.ylabel('Loading Port')\n",
    "plt.legend(title='Parcel Type', bbox_to_anchor=(1, 1), loc='upper left')\n",
    "plt.tight_layout()\n",
    "\n",
    "# Display the plot\n",
    "plt.show()"
   ]
  },
  {
   "cell_type": "code",
   "execution_count": 13,
   "id": "b6125470",
   "metadata": {},
   "outputs": [
    {
     "data": {
      "application/vnd.plotly.v1+json": {
       "config": {
        "plotlyServerURL": "https://plot.ly"
       },
       "data": [
        {
         "alignmentgroup": "True",
         "hovertemplate": "Parcel Type=International<br>Processing Time (minutes)=%{x}<br>Loading Port=%{y}<extra></extra>",
         "legendgroup": "International",
         "marker": {
          "color": "blue"
         },
         "name": "International",
         "notched": false,
         "offsetgroup": "International",
         "orientation": "h",
         "showlegend": true,
         "type": "box",
         "x": [
          31,
          17,
          21,
          21,
          33,
          30,
          28,
          33,
          29,
          43,
          35,
          28,
          31,
          30,
          22,
          25,
          24,
          20,
          41,
          24,
          35,
          24,
          24,
          33,
          37,
          42,
          42,
          37,
          10,
          41,
          37,
          43,
          15,
          32,
          17,
          36,
          23,
          35,
          29,
          30,
          12,
          26,
          35,
          42,
          22,
          23,
          42,
          42,
          43,
          37,
          33,
          32,
          30,
          35,
          47,
          20,
          29,
          38,
          31,
          27,
          30,
          20,
          33,
          31,
          38,
          38,
          41,
          26,
          32,
          34,
          29,
          18,
          26,
          29,
          30,
          29,
          29,
          16,
          17,
          28,
          31,
          30,
          25,
          23,
          30,
          27,
          46,
          18,
          49,
          36,
          25,
          31,
          32,
          51,
          32,
          52,
          35,
          32,
          42,
          29,
          40,
          17,
          23,
          33,
          25,
          29,
          45,
          25,
          23,
          43,
          28,
          34,
          28,
          36,
          34,
          32,
          33,
          26,
          39,
          26,
          23,
          39,
          40,
          34,
          38,
          36,
          42,
          41,
          36,
          40,
          38,
          20,
          36,
          43,
          27,
          30,
          36,
          32,
          24,
          38,
          28,
          29,
          29,
          35,
          22,
          49,
          30,
          31,
          39,
          22,
          27,
          34,
          29,
          34,
          35,
          25,
          30,
          42,
          33,
          27,
          43,
          33,
          34,
          32,
          42,
          20,
          34,
          25,
          31,
          39,
          21,
          36,
          34,
          42,
          43,
          38,
          37,
          31,
          27,
          47,
          33,
          43,
          18,
          42,
          38,
          37,
          44,
          31,
          37,
          42,
          36,
          23,
          37,
          41,
          34,
          51,
          25,
          23,
          29,
          44,
          39,
          33,
          21,
          24,
          26,
          35,
          40,
          33,
          11,
          36,
          30,
          26,
          32,
          29,
          23,
          23,
          34,
          25,
          26,
          24,
          29,
          33,
          30,
          42,
          42,
          35,
          17,
          29,
          31,
          34,
          21,
          34,
          34,
          29,
          53,
          33,
          39,
          30,
          33,
          33,
          35,
          35,
          34,
          41,
          35,
          31
         ],
         "x0": " ",
         "xaxis": "x",
         "y": [
          "TN01",
          "TN01",
          "TN01",
          "TN01",
          "TN01",
          "TN01",
          "TN01",
          "TN01",
          "TN01",
          "TN01",
          "TN01",
          "TN01",
          "TN01",
          "TN01",
          "TN01",
          "TN01",
          "TN01",
          "TN01",
          "TN01",
          "TN01",
          "TN01",
          "TN01",
          "TN01",
          "TN01",
          "TN01",
          "TN01",
          "TN01",
          "TN01",
          "TN01",
          "TN01",
          "TN01",
          "TN01",
          "TN01",
          "TN01",
          "TN01",
          "TN01",
          "TN01",
          "TN01",
          "TN01",
          "TN01",
          "TN01",
          "TN01",
          "TN01",
          "TN01",
          "TN01",
          "TN01",
          "TN01",
          "TN01",
          "TN01",
          "TN01",
          "TN01",
          "TN01",
          "TN01",
          "TN01",
          "TN01",
          "TN01",
          "TN01",
          "TN01",
          "TN01",
          "TN01",
          "TN01",
          "TN01",
          "TN01",
          "TN01",
          "TN01",
          "TN01",
          "TN01",
          "TN01",
          "TN01",
          "TN01",
          "TN01",
          "TN01",
          "TN01",
          "TN01",
          "TN01",
          "TN01",
          "TN01",
          "TN01",
          "TN01",
          "TN01",
          "TN01",
          "TN01",
          "TN01",
          "TN01",
          "TN01",
          "TN01",
          "TN01",
          "TN01",
          "TN01",
          "TN01",
          "TN01",
          "TN01",
          "TN01",
          "TN01",
          "TN01",
          "TN01",
          "TN01",
          "TN01",
          "TN01",
          "TN01",
          "TN01",
          "TN01",
          "TN01",
          "TN01",
          "TN01",
          "TN01",
          "TN01",
          "TN01",
          "TN01",
          "TN01",
          "TN01",
          "TN01",
          "TN01",
          "TN01",
          "TN01",
          "TN01",
          "TN01",
          "TN01",
          "TN01",
          "TN01",
          "TN01",
          "TN01",
          "TN01",
          "TN01",
          "TN01",
          "TN01",
          "TN01",
          "TN01",
          "TN01",
          "TN01",
          "TN01",
          "TN01",
          "TN01",
          "TN01",
          "TN01",
          "TN01",
          "TN01",
          "TN01",
          "TN01",
          "TN01",
          "TN01",
          "TN01",
          "TN02",
          "TN02",
          "TN01",
          "TN01",
          "TN01",
          "TN02",
          "TN02",
          "TN02",
          "TN02",
          "TN02",
          "TN02",
          "TN02",
          "TN02",
          "TN02",
          "TN02",
          "TN02",
          "TN02",
          "TN02",
          "TN02",
          "TN02",
          "TN02",
          "TN02",
          "TN02",
          "TN02",
          "TN02",
          "TN02",
          "TN02",
          "TN02",
          "TN02",
          "TN02",
          "TN02",
          "TN02",
          "TN02",
          "TN02",
          "TN02",
          "TN02",
          "TN02",
          "TN02",
          "TN02",
          "TN02",
          "TN02",
          "TN02",
          "TN02",
          "TN02",
          "TN02",
          "TN02",
          "TN02",
          "TN02",
          "TN02",
          "TN02",
          "TN02",
          "TN02",
          "TN02",
          "TN02",
          "TN02",
          "TN02",
          "TN02",
          "TN02",
          "TN02",
          "TN02",
          "TN02",
          "TN02",
          "TN02",
          "TN02",
          "TN02",
          "TN02",
          "TN02",
          "TN02",
          "TN02",
          "TN02",
          "TN02",
          "TN02",
          "TN02",
          "TN02",
          "TN02",
          "TN02",
          "TN02",
          "TN02",
          "TN02",
          "TN02",
          "TN02",
          "TN02",
          "TN02",
          "TN02",
          "TN02",
          "TN02",
          "TN02",
          "TN02",
          "TN02",
          "TN02",
          "TN02",
          "TN02",
          "TN02",
          "TN02",
          "TN02",
          "TN02",
          "TN02",
          "TN02",
          "TN02",
          "TN02",
          "TN02",
          "TN02",
          "TN02",
          "TN02"
         ],
         "y0": " ",
         "yaxis": "y"
        },
        {
         "alignmentgroup": "True",
         "hovertemplate": "Parcel Type=Domestic<br>Processing Time (minutes)=%{x}<br>Loading Port=%{y}<extra></extra>",
         "legendgroup": "Domestic",
         "marker": {
          "color": "red"
         },
         "name": "Domestic",
         "notched": false,
         "offsetgroup": "Domestic",
         "orientation": "h",
         "showlegend": true,
         "type": "box",
         "x": [
          16,
          12,
          14,
          14,
          15,
          11,
          15,
          16,
          15,
          14,
          12,
          15,
          15,
          14,
          16,
          14,
          16,
          18,
          20,
          17,
          16,
          15,
          14,
          15,
          13,
          14,
          15,
          18,
          15,
          17,
          14,
          15,
          19,
          17,
          17,
          17,
          14,
          17,
          14,
          14,
          9,
          16,
          17,
          18,
          16,
          17,
          15,
          13,
          17,
          14,
          16,
          14,
          18,
          19,
          13,
          19,
          17,
          17,
          15,
          15,
          18,
          14,
          20,
          16,
          19,
          13,
          19,
          13,
          20,
          17,
          17,
          16,
          18,
          14,
          17,
          16,
          17,
          18,
          17,
          16,
          20,
          15,
          18,
          15,
          24,
          15,
          16,
          18,
          23,
          19,
          18,
          16,
          19,
          18,
          17,
          13,
          17,
          19,
          20,
          20,
          12,
          16,
          24,
          13,
          16,
          18,
          19,
          16,
          18,
          18,
          18,
          14,
          14,
          17,
          15,
          14,
          14,
          20,
          17,
          16,
          16,
          17,
          16,
          17,
          17,
          21,
          14,
          14,
          17,
          18,
          15,
          12,
          17,
          18,
          16,
          18,
          17,
          16,
          19,
          20,
          17,
          20,
          15,
          17,
          19,
          18,
          20,
          14,
          16,
          16,
          11,
          17,
          15,
          17,
          16,
          19,
          14,
          17,
          17,
          18,
          15,
          20,
          20,
          17,
          15,
          20,
          13,
          15,
          23,
          19,
          14,
          19,
          14,
          21,
          16,
          20,
          18,
          14,
          18,
          13,
          17,
          17,
          16,
          18,
          15,
          18,
          16,
          18,
          17,
          17,
          14,
          21,
          21,
          17,
          21,
          16,
          23,
          14,
          19,
          24,
          19,
          16,
          20,
          16,
          17,
          17,
          15,
          19,
          18,
          20,
          13,
          17,
          15,
          17,
          16,
          14,
          14,
          14,
          14,
          12,
          20,
          15,
          15,
          15,
          16,
          18,
          19,
          13,
          14,
          18,
          12,
          19,
          17,
          22,
          16,
          20,
          17,
          15,
          21,
          20,
          13,
          12,
          16,
          13,
          12,
          12,
          17,
          17,
          19,
          13,
          18,
          15,
          15,
          21,
          15,
          18,
          12,
          14,
          15,
          17,
          19,
          13,
          19,
          16,
          17,
          16,
          19,
          15,
          18,
          17,
          14,
          15,
          15,
          17,
          19,
          18,
          16,
          13,
          17,
          16,
          16,
          16,
          16,
          20,
          14,
          10,
          16,
          17,
          15,
          19,
          15,
          19,
          16,
          16,
          15,
          15,
          19,
          14,
          19,
          15,
          20,
          17,
          18,
          24,
          15,
          18,
          17,
          15,
          13,
          13,
          17,
          18,
          17,
          18,
          21,
          18,
          15,
          18,
          20,
          16,
          15,
          18,
          13,
          14,
          18,
          19,
          16,
          19,
          16,
          14,
          15,
          15,
          19,
          17,
          21,
          14,
          20,
          13,
          13,
          17,
          22,
          19,
          17,
          18,
          23,
          18,
          22,
          19,
          20,
          19,
          16,
          18,
          17,
          20,
          15,
          15,
          22,
          14,
          15,
          19,
          13,
          23,
          15,
          17,
          16,
          12,
          17,
          20,
          21,
          15,
          18,
          16,
          18,
          15,
          17,
          24,
          19,
          18,
          16,
          18,
          21,
          13,
          17,
          17,
          13,
          16,
          17,
          16,
          21,
          16,
          13,
          13,
          13,
          18,
          13,
          20,
          17,
          17,
          14,
          14,
          17,
          16,
          15,
          20,
          18,
          14,
          18,
          16,
          17,
          19,
          17,
          17,
          17,
          17,
          18,
          18,
          13,
          16,
          15,
          14,
          14,
          21,
          16,
          13,
          12,
          15,
          18,
          17,
          23,
          18,
          18,
          14,
          19,
          17,
          22,
          16,
          11,
          15,
          15,
          13,
          16,
          14,
          17,
          19,
          17,
          14,
          19,
          17,
          14,
          19,
          17,
          15,
          14,
          20,
          19,
          19,
          19,
          20,
          17,
          23,
          16,
          16,
          24,
          14,
          16,
          14,
          12,
          20,
          14,
          21,
          15,
          17
         ],
         "x0": " ",
         "xaxis": "x",
         "y": [
          "TN02",
          "TN02",
          "TN02",
          "TN02",
          "TN02",
          "TN02",
          "TN02",
          "TN02",
          "TN02",
          "TN02",
          "TN02",
          "TN02",
          "TN02",
          "TN02",
          "TN02",
          "TN02",
          "TN02",
          "TN02",
          "TN02",
          "TN02",
          "TN02",
          "TN02",
          "TN02",
          "TN02",
          "TN02",
          "TN02",
          "TN02",
          "TN02",
          "TN02",
          "TN02",
          "TN02",
          "TN02",
          "TN02",
          "TN02",
          "TN02",
          "TN02",
          "TN02",
          "TN02",
          "TN02",
          "TN02",
          "TN02",
          "TN02",
          "TS01",
          "TN02",
          "TS01",
          "TN02",
          "TS01",
          "TS01",
          "TS01",
          "TS01",
          "TS01",
          "TS01",
          "TS01",
          "TS01",
          "TS01",
          "TS01",
          "TS01",
          "TS01",
          "TS01",
          "TS01",
          "TS01",
          "TS01",
          "TS01",
          "TS01",
          "TS01",
          "TS01",
          "TS01",
          "TS01",
          "TS01",
          "TS01",
          "TS01",
          "TS01",
          "TS01",
          "TS01",
          "TS01",
          "TS01",
          "TS01",
          "TS01",
          "TS01",
          "TS01",
          "TS01",
          "TS01",
          "TS01",
          "TS01",
          "TS01",
          "TS01",
          "TS01",
          "TS01",
          "TS01",
          "TS01",
          "TS01",
          "TS01",
          "TS01",
          "TS01",
          "TS01",
          "TS01",
          "TS01",
          "TS01",
          "TS01",
          "TS01",
          "TS01",
          "TS01",
          "TS01",
          "TS01",
          "TS01",
          "TS01",
          "TS01",
          "TS01",
          "TS01",
          "TS01",
          "TS01",
          "TS01",
          "TS01",
          "TS01",
          "TS01",
          "TS01",
          "TS01",
          "TS01",
          "TS01",
          "TS01",
          "TS01",
          "TS01",
          "TS01",
          "TS01",
          "TS01",
          "TS01",
          "TS01",
          "TS01",
          "TS01",
          "TS01",
          "TS01",
          "TS01",
          "TS01",
          "TS01",
          "TS01",
          "TS01",
          "TS01",
          "TS01",
          "TS01",
          "TS01",
          "TS01",
          "TS01",
          "TS01",
          "TS01",
          "TS01",
          "TS01",
          "TS01",
          "TS01",
          "TS01",
          "TS01",
          "TS01",
          "TS01",
          "TS01",
          "TS01",
          "TS01",
          "TS01",
          "TS01",
          "TS01",
          "TS01",
          "TS01",
          "TS01",
          "TS01",
          "TS01",
          "TS01",
          "TS01",
          "TS01",
          "TS01",
          "TS01",
          "TS01",
          "TS01",
          "TS01",
          "TS01",
          "TS01",
          "TS01",
          "TS01",
          "TS01",
          "TS01",
          "TS01",
          "TS01",
          "TS01",
          "TS01",
          "TS01",
          "TS01",
          "TS01",
          "TS01",
          "TS01",
          "TS01",
          "TS01",
          "TS02",
          "TS02",
          "TS02",
          "TS02",
          "TS01",
          "TS02",
          "TS02",
          "TS02",
          "TS02",
          "TS02",
          "TS02",
          "TS02",
          "TS02",
          "TS02",
          "TS02",
          "TS02",
          "TS02",
          "TS02",
          "TS02",
          "TS02",
          "TS02",
          "TS02",
          "TS02",
          "TS02",
          "TS02",
          "TS02",
          "TS02",
          "TS02",
          "TS02",
          "TS02",
          "TS02",
          "TS02",
          "TS02",
          "TS02",
          "TS02",
          "TS02",
          "TS02",
          "TS02",
          "TS02",
          "TS02",
          "TS02",
          "TS02",
          "TS02",
          "TS02",
          "TS02",
          "TS02",
          "TS02",
          "TS02",
          "TS02",
          "TS02",
          "TS02",
          "TS02",
          "TS02",
          "TS02",
          "TS02",
          "TS02",
          "TS02",
          "TS02",
          "TS02",
          "TS02",
          "TS02",
          "TS02",
          "TS02",
          "TS02",
          "TS02",
          "TS02",
          "TS02",
          "TS02",
          "TS02",
          "TS02",
          "TS02",
          "TS02",
          "TS02",
          "TS02",
          "TS02",
          "TS02",
          "TS02",
          "TS02",
          "TS02",
          "TS02",
          "TS02",
          "TS02",
          "TS02",
          "TS02",
          "TS02",
          "TS02",
          "TS02",
          "TS02",
          "TS02",
          "TS02",
          "TS02",
          "TS02",
          "TS02",
          "TS02",
          "TS02",
          "TS02",
          "TS02",
          "TS02",
          "TS02",
          "TS02",
          "TS02",
          "TS02",
          "TS02",
          "TS02",
          "TS02",
          "TS02",
          "TS02",
          "TS02",
          "TS02",
          "TS02",
          "TS02",
          "TS02",
          "TS02",
          "TS02",
          "TS02",
          "TS02",
          "TS02",
          "TS02",
          "TS02",
          "TS02",
          "TS02",
          "TS02",
          "TS02",
          "TS02",
          "TS02",
          "TS02",
          "TS02",
          "TS02",
          "TS02",
          "TS02",
          "TS02",
          "TS02",
          "TS02",
          "TS02",
          "TS02",
          "TS02",
          "TS02",
          "TS02",
          "TS02",
          "TS02",
          "TS02",
          "TS02",
          "TS02",
          "TS02",
          "TS02",
          "TS02",
          "TS02",
          "TS02",
          "TS02",
          "TS02",
          "TS02",
          "TS02",
          "TS02",
          "TS02",
          "TS02",
          "TS02",
          "TS02",
          "TS02",
          "TS02",
          "TS02",
          "TS02",
          "TS02",
          "TS02",
          "TS02",
          "TS02",
          "TS02",
          "TS02",
          "TS02",
          "TS02",
          "TS02",
          "TS02",
          "TS02",
          "TS02",
          "TS02",
          "TS02",
          "TS02",
          "TS02",
          "TS02",
          "TS02",
          "TS02",
          "TS02",
          "TS02",
          "TS02",
          "TS02",
          "TS02",
          "TS02",
          "TS02",
          "TS02",
          "TS02",
          "TS02",
          "TS02",
          "TS02",
          "TS02",
          "TS02",
          "TS02",
          "TS02",
          "TS02",
          "TS02",
          "TS02",
          "TS02",
          "TS02",
          "TS02",
          "TS02",
          "TS02",
          "TS02",
          "TS02",
          "TS02",
          "TS02",
          "TS02",
          "TS02",
          "TS02",
          "TS02",
          "TS02",
          "TS02",
          "TS02",
          "TS02",
          "TS02",
          "TS02",
          "TS02",
          "TS02",
          "TS02",
          "TS02",
          "TS02",
          "TS02",
          "TS02",
          "TS02",
          "TS02",
          "TS02",
          "TS02",
          "TS02",
          "TS02",
          "TS02",
          "TS02",
          "TS02",
          "TS02",
          "TS02",
          "TS02",
          "TS02",
          "TS02",
          "TS02",
          "TS02",
          "TS02",
          "TS02",
          "TS02",
          "TS02",
          "TS02",
          "TS02",
          "TS02",
          "TS02",
          "TS02",
          "TS02",
          "TS02",
          "TS02",
          "TS02",
          "TS02",
          "TS02",
          "TS02",
          "TS02",
          "TS02",
          "TS02",
          "TS02",
          "TS02",
          "TS02",
          "TS02",
          "TS02",
          "TS02",
          "TS02",
          "TS02",
          "TS02",
          "TS02",
          "TS02",
          "TS02",
          "TS02",
          "TS02",
          "TS02",
          "TS02",
          "TS02",
          "TS02",
          "TS02",
          "TS02",
          "TS02",
          "TS02",
          "TS02",
          "TS02"
         ],
         "y0": " ",
         "yaxis": "y"
        }
       ],
       "layout": {
        "boxmode": "group",
        "legend": {
         "title": {
          "text": "Parcel Type"
         },
         "tracegroupgap": 0
        },
        "template": {
         "data": {
          "bar": [
           {
            "error_x": {
             "color": "#2a3f5f"
            },
            "error_y": {
             "color": "#2a3f5f"
            },
            "marker": {
             "line": {
              "color": "#E5ECF6",
              "width": 0.5
             },
             "pattern": {
              "fillmode": "overlay",
              "size": 10,
              "solidity": 0.2
             }
            },
            "type": "bar"
           }
          ],
          "barpolar": [
           {
            "marker": {
             "line": {
              "color": "#E5ECF6",
              "width": 0.5
             },
             "pattern": {
              "fillmode": "overlay",
              "size": 10,
              "solidity": 0.2
             }
            },
            "type": "barpolar"
           }
          ],
          "carpet": [
           {
            "aaxis": {
             "endlinecolor": "#2a3f5f",
             "gridcolor": "white",
             "linecolor": "white",
             "minorgridcolor": "white",
             "startlinecolor": "#2a3f5f"
            },
            "baxis": {
             "endlinecolor": "#2a3f5f",
             "gridcolor": "white",
             "linecolor": "white",
             "minorgridcolor": "white",
             "startlinecolor": "#2a3f5f"
            },
            "type": "carpet"
           }
          ],
          "choropleth": [
           {
            "colorbar": {
             "outlinewidth": 0,
             "ticks": ""
            },
            "type": "choropleth"
           }
          ],
          "contour": [
           {
            "colorbar": {
             "outlinewidth": 0,
             "ticks": ""
            },
            "colorscale": [
             [
              0,
              "#0d0887"
             ],
             [
              0.1111111111111111,
              "#46039f"
             ],
             [
              0.2222222222222222,
              "#7201a8"
             ],
             [
              0.3333333333333333,
              "#9c179e"
             ],
             [
              0.4444444444444444,
              "#bd3786"
             ],
             [
              0.5555555555555556,
              "#d8576b"
             ],
             [
              0.6666666666666666,
              "#ed7953"
             ],
             [
              0.7777777777777778,
              "#fb9f3a"
             ],
             [
              0.8888888888888888,
              "#fdca26"
             ],
             [
              1,
              "#f0f921"
             ]
            ],
            "type": "contour"
           }
          ],
          "contourcarpet": [
           {
            "colorbar": {
             "outlinewidth": 0,
             "ticks": ""
            },
            "type": "contourcarpet"
           }
          ],
          "heatmap": [
           {
            "colorbar": {
             "outlinewidth": 0,
             "ticks": ""
            },
            "colorscale": [
             [
              0,
              "#0d0887"
             ],
             [
              0.1111111111111111,
              "#46039f"
             ],
             [
              0.2222222222222222,
              "#7201a8"
             ],
             [
              0.3333333333333333,
              "#9c179e"
             ],
             [
              0.4444444444444444,
              "#bd3786"
             ],
             [
              0.5555555555555556,
              "#d8576b"
             ],
             [
              0.6666666666666666,
              "#ed7953"
             ],
             [
              0.7777777777777778,
              "#fb9f3a"
             ],
             [
              0.8888888888888888,
              "#fdca26"
             ],
             [
              1,
              "#f0f921"
             ]
            ],
            "type": "heatmap"
           }
          ],
          "heatmapgl": [
           {
            "colorbar": {
             "outlinewidth": 0,
             "ticks": ""
            },
            "colorscale": [
             [
              0,
              "#0d0887"
             ],
             [
              0.1111111111111111,
              "#46039f"
             ],
             [
              0.2222222222222222,
              "#7201a8"
             ],
             [
              0.3333333333333333,
              "#9c179e"
             ],
             [
              0.4444444444444444,
              "#bd3786"
             ],
             [
              0.5555555555555556,
              "#d8576b"
             ],
             [
              0.6666666666666666,
              "#ed7953"
             ],
             [
              0.7777777777777778,
              "#fb9f3a"
             ],
             [
              0.8888888888888888,
              "#fdca26"
             ],
             [
              1,
              "#f0f921"
             ]
            ],
            "type": "heatmapgl"
           }
          ],
          "histogram": [
           {
            "marker": {
             "pattern": {
              "fillmode": "overlay",
              "size": 10,
              "solidity": 0.2
             }
            },
            "type": "histogram"
           }
          ],
          "histogram2d": [
           {
            "colorbar": {
             "outlinewidth": 0,
             "ticks": ""
            },
            "colorscale": [
             [
              0,
              "#0d0887"
             ],
             [
              0.1111111111111111,
              "#46039f"
             ],
             [
              0.2222222222222222,
              "#7201a8"
             ],
             [
              0.3333333333333333,
              "#9c179e"
             ],
             [
              0.4444444444444444,
              "#bd3786"
             ],
             [
              0.5555555555555556,
              "#d8576b"
             ],
             [
              0.6666666666666666,
              "#ed7953"
             ],
             [
              0.7777777777777778,
              "#fb9f3a"
             ],
             [
              0.8888888888888888,
              "#fdca26"
             ],
             [
              1,
              "#f0f921"
             ]
            ],
            "type": "histogram2d"
           }
          ],
          "histogram2dcontour": [
           {
            "colorbar": {
             "outlinewidth": 0,
             "ticks": ""
            },
            "colorscale": [
             [
              0,
              "#0d0887"
             ],
             [
              0.1111111111111111,
              "#46039f"
             ],
             [
              0.2222222222222222,
              "#7201a8"
             ],
             [
              0.3333333333333333,
              "#9c179e"
             ],
             [
              0.4444444444444444,
              "#bd3786"
             ],
             [
              0.5555555555555556,
              "#d8576b"
             ],
             [
              0.6666666666666666,
              "#ed7953"
             ],
             [
              0.7777777777777778,
              "#fb9f3a"
             ],
             [
              0.8888888888888888,
              "#fdca26"
             ],
             [
              1,
              "#f0f921"
             ]
            ],
            "type": "histogram2dcontour"
           }
          ],
          "mesh3d": [
           {
            "colorbar": {
             "outlinewidth": 0,
             "ticks": ""
            },
            "type": "mesh3d"
           }
          ],
          "parcoords": [
           {
            "line": {
             "colorbar": {
              "outlinewidth": 0,
              "ticks": ""
             }
            },
            "type": "parcoords"
           }
          ],
          "pie": [
           {
            "automargin": true,
            "type": "pie"
           }
          ],
          "scatter": [
           {
            "fillpattern": {
             "fillmode": "overlay",
             "size": 10,
             "solidity": 0.2
            },
            "type": "scatter"
           }
          ],
          "scatter3d": [
           {
            "line": {
             "colorbar": {
              "outlinewidth": 0,
              "ticks": ""
             }
            },
            "marker": {
             "colorbar": {
              "outlinewidth": 0,
              "ticks": ""
             }
            },
            "type": "scatter3d"
           }
          ],
          "scattercarpet": [
           {
            "marker": {
             "colorbar": {
              "outlinewidth": 0,
              "ticks": ""
             }
            },
            "type": "scattercarpet"
           }
          ],
          "scattergeo": [
           {
            "marker": {
             "colorbar": {
              "outlinewidth": 0,
              "ticks": ""
             }
            },
            "type": "scattergeo"
           }
          ],
          "scattergl": [
           {
            "marker": {
             "colorbar": {
              "outlinewidth": 0,
              "ticks": ""
             }
            },
            "type": "scattergl"
           }
          ],
          "scattermapbox": [
           {
            "marker": {
             "colorbar": {
              "outlinewidth": 0,
              "ticks": ""
             }
            },
            "type": "scattermapbox"
           }
          ],
          "scatterpolar": [
           {
            "marker": {
             "colorbar": {
              "outlinewidth": 0,
              "ticks": ""
             }
            },
            "type": "scatterpolar"
           }
          ],
          "scatterpolargl": [
           {
            "marker": {
             "colorbar": {
              "outlinewidth": 0,
              "ticks": ""
             }
            },
            "type": "scatterpolargl"
           }
          ],
          "scatterternary": [
           {
            "marker": {
             "colorbar": {
              "outlinewidth": 0,
              "ticks": ""
             }
            },
            "type": "scatterternary"
           }
          ],
          "surface": [
           {
            "colorbar": {
             "outlinewidth": 0,
             "ticks": ""
            },
            "colorscale": [
             [
              0,
              "#0d0887"
             ],
             [
              0.1111111111111111,
              "#46039f"
             ],
             [
              0.2222222222222222,
              "#7201a8"
             ],
             [
              0.3333333333333333,
              "#9c179e"
             ],
             [
              0.4444444444444444,
              "#bd3786"
             ],
             [
              0.5555555555555556,
              "#d8576b"
             ],
             [
              0.6666666666666666,
              "#ed7953"
             ],
             [
              0.7777777777777778,
              "#fb9f3a"
             ],
             [
              0.8888888888888888,
              "#fdca26"
             ],
             [
              1,
              "#f0f921"
             ]
            ],
            "type": "surface"
           }
          ],
          "table": [
           {
            "cells": {
             "fill": {
              "color": "#EBF0F8"
             },
             "line": {
              "color": "white"
             }
            },
            "header": {
             "fill": {
              "color": "#C8D4E3"
             },
             "line": {
              "color": "white"
             }
            },
            "type": "table"
           }
          ]
         },
         "layout": {
          "annotationdefaults": {
           "arrowcolor": "#2a3f5f",
           "arrowhead": 0,
           "arrowwidth": 1
          },
          "autotypenumbers": "strict",
          "coloraxis": {
           "colorbar": {
            "outlinewidth": 0,
            "ticks": ""
           }
          },
          "colorscale": {
           "diverging": [
            [
             0,
             "#8e0152"
            ],
            [
             0.1,
             "#c51b7d"
            ],
            [
             0.2,
             "#de77ae"
            ],
            [
             0.3,
             "#f1b6da"
            ],
            [
             0.4,
             "#fde0ef"
            ],
            [
             0.5,
             "#f7f7f7"
            ],
            [
             0.6,
             "#e6f5d0"
            ],
            [
             0.7,
             "#b8e186"
            ],
            [
             0.8,
             "#7fbc41"
            ],
            [
             0.9,
             "#4d9221"
            ],
            [
             1,
             "#276419"
            ]
           ],
           "sequential": [
            [
             0,
             "#0d0887"
            ],
            [
             0.1111111111111111,
             "#46039f"
            ],
            [
             0.2222222222222222,
             "#7201a8"
            ],
            [
             0.3333333333333333,
             "#9c179e"
            ],
            [
             0.4444444444444444,
             "#bd3786"
            ],
            [
             0.5555555555555556,
             "#d8576b"
            ],
            [
             0.6666666666666666,
             "#ed7953"
            ],
            [
             0.7777777777777778,
             "#fb9f3a"
            ],
            [
             0.8888888888888888,
             "#fdca26"
            ],
            [
             1,
             "#f0f921"
            ]
           ],
           "sequentialminus": [
            [
             0,
             "#0d0887"
            ],
            [
             0.1111111111111111,
             "#46039f"
            ],
            [
             0.2222222222222222,
             "#7201a8"
            ],
            [
             0.3333333333333333,
             "#9c179e"
            ],
            [
             0.4444444444444444,
             "#bd3786"
            ],
            [
             0.5555555555555556,
             "#d8576b"
            ],
            [
             0.6666666666666666,
             "#ed7953"
            ],
            [
             0.7777777777777778,
             "#fb9f3a"
            ],
            [
             0.8888888888888888,
             "#fdca26"
            ],
            [
             1,
             "#f0f921"
            ]
           ]
          },
          "colorway": [
           "#636efa",
           "#EF553B",
           "#00cc96",
           "#ab63fa",
           "#FFA15A",
           "#19d3f3",
           "#FF6692",
           "#B6E880",
           "#FF97FF",
           "#FECB52"
          ],
          "font": {
           "color": "#2a3f5f"
          },
          "geo": {
           "bgcolor": "white",
           "lakecolor": "white",
           "landcolor": "#E5ECF6",
           "showlakes": true,
           "showland": true,
           "subunitcolor": "white"
          },
          "hoverlabel": {
           "align": "left"
          },
          "hovermode": "closest",
          "mapbox": {
           "style": "light"
          },
          "paper_bgcolor": "white",
          "plot_bgcolor": "#E5ECF6",
          "polar": {
           "angularaxis": {
            "gridcolor": "white",
            "linecolor": "white",
            "ticks": ""
           },
           "bgcolor": "#E5ECF6",
           "radialaxis": {
            "gridcolor": "white",
            "linecolor": "white",
            "ticks": ""
           }
          },
          "scene": {
           "xaxis": {
            "backgroundcolor": "#E5ECF6",
            "gridcolor": "white",
            "gridwidth": 2,
            "linecolor": "white",
            "showbackground": true,
            "ticks": "",
            "zerolinecolor": "white"
           },
           "yaxis": {
            "backgroundcolor": "#E5ECF6",
            "gridcolor": "white",
            "gridwidth": 2,
            "linecolor": "white",
            "showbackground": true,
            "ticks": "",
            "zerolinecolor": "white"
           },
           "zaxis": {
            "backgroundcolor": "#E5ECF6",
            "gridcolor": "white",
            "gridwidth": 2,
            "linecolor": "white",
            "showbackground": true,
            "ticks": "",
            "zerolinecolor": "white"
           }
          },
          "shapedefaults": {
           "line": {
            "color": "#2a3f5f"
           }
          },
          "ternary": {
           "aaxis": {
            "gridcolor": "white",
            "linecolor": "white",
            "ticks": ""
           },
           "baxis": {
            "gridcolor": "white",
            "linecolor": "white",
            "ticks": ""
           },
           "bgcolor": "#E5ECF6",
           "caxis": {
            "gridcolor": "white",
            "linecolor": "white",
            "ticks": ""
           }
          },
          "title": {
           "x": 0.05
          },
          "xaxis": {
           "automargin": true,
           "gridcolor": "white",
           "linecolor": "white",
           "ticks": "",
           "title": {
            "standoff": 15
           },
           "zerolinecolor": "white",
           "zerolinewidth": 2
          },
          "yaxis": {
           "automargin": true,
           "gridcolor": "white",
           "linecolor": "white",
           "ticks": "",
           "title": {
            "standoff": 15
           },
           "zerolinecolor": "white",
           "zerolinewidth": 2
          }
         }
        },
        "title": {
         "text": "Processing Time by Loading Port and Parcel Type"
        },
        "xaxis": {
         "anchor": "y",
         "domain": [
          0,
          1
         ],
         "title": {
          "text": "Processing Time (minutes)"
         }
        },
        "yaxis": {
         "anchor": "x",
         "domain": [
          0,
          1
         ],
         "title": {
          "text": "Loading Port"
         }
        }
       }
      }
     },
     "metadata": {},
     "output_type": "display_data"
    }
   ],
   "source": [
    "# Create interactive box plot\n",
    "fig = px.box(\n",
    "    df,\n",
    "    x='processing_time',\n",
    "    y='loading_port',\n",
    "    color='parcel_type',\n",
    "    title='Processing Time by Loading Port and Parcel Type',\n",
    "    labels={\n",
    "        'processing_time': 'Processing Time (minutes)',\n",
    "        'loading_port': 'Loading Port',\n",
    "        'parcel_type': 'Parcel Type'\n",
    "    },\n",
    "    color_discrete_map={'Domestic': 'red', 'International': 'blue'}\n",
    ")\n",
    "\n",
    "fig.show()"
   ]
  },
  {
   "cell_type": "code",
   "execution_count": 14,
   "id": "6870e9d7",
   "metadata": {},
   "outputs": [
    {
     "data": {
      "image/png": "[encoded data removed]",
      "text/plain": [
       "<Figure size 1000x600 with 1 Axes>"
      ]
     },
     "metadata": {},
     "output_type": "display_data"
    }
   ],
   "source": [
    "df_filtered = df[df['loading_port'] == 'TN02']\n",
    "\n",
    "# Count number of parcels per enter_time and parcel_type\n",
    "lineChart = df_filtered.groupby(['enter_time', 'parcel_type']).size().reset_index(name='count')\n",
    "\n",
    "# Plot using matplotlib\n",
    "plt.figure(figsize=(10, 6))\n",
    "\n",
    "# Plot each parcel_type separately\n",
    "for parcel_type in lineChart['parcel_type'].unique():\n",
    "    subset = lineChart[lineChart['parcel_type'] == parcel_type]\n",
    "    plt.plot(\n",
    "        subset['enter_time'],\n",
    "        subset['count'],\n",
    "        marker='o',\n",
    "        label=parcel_type\n",
    "    )\n",
    "\n",
    "# Customize plot\n",
    "plt.title('Parcel Sorting Transition Timeline at TN02 Loading Port')\n",
    "plt.xlabel('Hour of Day')\n",
    "plt.ylabel('Number of Parcels')\n",
    "plt.grid(True, alpha=0.5)\n",
    "plt.xticks(rotation=45)\n",
    "plt.legend(title='Parcel Type')\n",
    "plt.grid(True, )\n",
    "plt.tight_layout()\n",
    "\n",
    "plt.show()"
   ]
  },
  {
   "cell_type": "markdown",
   "id": "8dc717bb",
   "metadata": {},
   "source": [
    "### Linear Regression"
   ]
  },
  {
   "cell_type": "code",
   "execution_count": 15,
   "id": "8e2f9da2",
   "metadata": {},
   "outputs": [],
   "source": [
    "# One hot encoding\n",
    "df = pd.get_dummies(df, columns=['parcel_type'], drop_first=True, dtype = int)"
   ]
  },
  {
   "cell_type": "code",
   "execution_count": 16,
   "id": "d52f4b42",
   "metadata": {},
   "outputs": [
    {
     "name": "stdout",
     "output_type": "stream",
     "text": [
      "                            OLS Regression Results                            \n",
      "==============================================================================\n",
      "Dep. Variable:        processing_time   R-squared:                       0.681\n",
      "Model:                            OLS   Adj. R-squared:                  0.680\n",
      "Method:                 Least Squares   F-statistic:                     762.5\n",
      "Date:                Thu, 17 Apr 2025   Prob (F-statistic):          5.04e-178\n",
      "Time:                        22:47:04   Log-Likelihood:                -2175.6\n",
      "No. Observations:                 718   AIC:                             4357.\n",
      "Df Residuals:                     715   BIC:                             4371.\n",
      "Df Model:                           2                                         \n",
      "Covariance Type:            nonrobust                                         \n",
      "=============================================================================================\n",
      "                                coef    std err          t      P>|t|      [0.025      0.975]\n",
      "---------------------------------------------------------------------------------------------\n",
      "Intercept                    12.8645      0.956     13.454      0.000      10.987      14.742\n",
      "parcel_type_International    16.0109      0.429     37.346      0.000      15.169      16.853\n",
      "congestion                    0.0365      0.009      4.071      0.000       0.019       0.054\n",
      "==============================================================================\n",
      "Omnibus:                       54.735   Durbin-Watson:                   2.030\n",
      "Prob(Omnibus):                  0.000   Jarque-Bera (JB):              257.461\n",
      "Skew:                           0.040   Prob(JB):                     1.24e-56\n",
      "Kurtosis:                       5.933   Cond. No.                         524.\n",
      "==============================================================================\n",
      "\n",
      "Notes:\n",
      "[1] Standard Errors assume that the covariance matrix of the errors is correctly specified.\n"
     ]
    }
   ],
   "source": [
    "lm = sm.OLS.from_formula('processing_time ~ parcel_type_International + congestion', data=df)\n",
    "result = lm.fit()\n",
    "print(result.summary())"
   ]
  },
  {
   "cell_type": "code",
   "execution_count": null,
   "id": "9ea33f03",
   "metadata": {},
   "outputs": [],
   "source": []
  }
 ],
 "metadata": {
  "kernelspec": {
   "display_name": "base",
   "language": "python",
   "name": "python3"
  },
  "language_info": {
   "codemirror_mode": {
    "name": "ipython",
    "version": 3
   },
   "file_extension": ".py",
   "mimetype": "text/x-python",
   "name": "python",
   "nbconvert_exporter": "python",
   "pygments_lexer": "ipython3",
   "version": "3.12.4"
  }
 },
 "nbformat": 4,
 "nbformat_minor": 5
}
